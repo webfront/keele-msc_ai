{
  "cells": [
    {
      "cell_type": "markdown",
      "metadata": {
        "id": "view-in-github",
        "colab_type": "text"
      },
      "source": [
        "<a href=\"https://colab.research.google.com/github/webfront/keele-msc_ai/blob/main/Google_Colab_Kickstart_Plan.ipynb\" target=\"_parent\"><img src=\"https://colab.research.google.com/assets/colab-badge.svg\" alt=\"Open In Colab\"/></a>"
      ]
    },
    {
      "cell_type": "markdown",
      "metadata": {
        "id": "hcyDORxKEAll"
      },
      "source": [
        "# Google Colab 2-Hour Kickstart Plan 🚀\n",
        "\n",
        "This plan is broken into four sections to kickstart your Colab journey. Each one builds on the last, taking you from the basics of the interface to essential best practices."
      ],
      "id": "hcyDORxKEAll"
    },
    {
      "cell_type": "markdown",
      "metadata": {
        "id": "LaOx_PQpEAlo"
      },
      "source": [
        "---"
      ],
      "id": "LaOx_PQpEAlo"
    },
    {
      "cell_type": "markdown",
      "metadata": {
        "id": "OoQ2d0ZiEAlo"
      },
      "source": [
        "### **1. The Grand Tour**\n",
        "\n",
        "**Goal:** Understand the Colab interface and how to create and interact with notebooks.\n",
        "\n",
        "**1. Meet the Interface:**\n",
        "Start by creating a new notebook. Do this by learning the main components: the **Menu Bar** (File, Edit, etc.), the **Toolbar** (buttons for adding cells, running code), and the **File Browser** on the left.\n",
        "\n",
        "**2. Understanding Cells:**\n",
        "Colab notebooks are made of cells. Learn the two main types:\n",
        "\n",
        "* **Code Cells:** Where you write and execute your Python code.\n",
        "* **Text Cells:** Where you write notes, headings, and explanations using a simple formatting language called **Markdown**.\n",
        "\n",
        "**3. Basic Operations:**\n",
        "The most important keyboard shortcut: `Shift + Enter` executes the code in a cell. Learn how to add, delete and move cells to structure your notebook."
      ],
      "id": "OoQ2d0ZiEAlo"
    },
    {
      "cell_type": "code",
      "execution_count": 1,
      "metadata": {
        "colab": {
          "base_uri": "https://localhost:8080/"
        },
        "id": "JgI8n-3m5BId",
        "outputId": "d38439b5-6d77-4d78-e43d-304d024fc2da"
      },
      "outputs": [
        {
          "output_type": "stream",
          "name": "stdout",
          "text": [
            "Welcome to your first Colab code execution!\n"
          ]
        }
      ],
      "source": [
        "# This is a Code Cell.\n",
        "# Click on it, then press Shift + Enter to run it.\n",
        "print(\"Welcome to your first Colab code execution!\")"
      ],
      "id": "JgI8n-3m5BId"
    },
    {
      "cell_type": "markdown",
      "source": [
        "If this was your first time running code, you would have noticed that it took a while to execute. This is due to the runtime engine having to start up.\n",
        "\n",
        "More about this in section 3."
      ],
      "metadata": {
        "id": "3AgaDEFIEmLx"
      },
      "id": "3AgaDEFIEmLx"
    },
    {
      "cell_type": "markdown",
      "metadata": {
        "id": "MBOIQyaTEAlq"
      },
      "source": [
        "---"
      ],
      "id": "MBOIQyaTEAlq"
    },
    {
      "cell_type": "markdown",
      "metadata": {
        "id": "3j7z2B5kEAlq"
      },
      "source": [
        "### **Handling Data & Files**\n",
        "\n",
        "**Goal:** Learn the essential methods for getting data into your Colab environment.\n",
        "\n",
        "**1. Temporary Uploads:**\n",
        "Use the file browser (the folder icon on the left sidebar) to **manually upload** a small file from your computer.\n",
        "> **Note:** This is useful for quick, small tasks as the file disappears when your session ends.\n",
        "\n",
        "**2. Persistent Storage (Best Practice):**\n",
        "The most important method is **mounting your Google Drive**. This connects your notebook to your Drive, allowing you to save files permanently and access datasets you've stored there.\n",
        "\n",
        "*Only run the code cell below if you want to connect your Google Drive to this session. If you run it, follow the authentication prompts to mount your Drive.*"
      ],
      "id": "3j7z2B5kEAlq"
    },
    {
      "cell_type": "code",
      "execution_count": 3,
      "metadata": {
        "colab": {
          "base_uri": "https://localhost:8080/"
        },
        "id": "eU4pQ7RREAlq",
        "outputId": "2930fd67-2134-41e7-9583-8783de8b706f"
      },
      "outputs": [
        {
          "output_type": "stream",
          "name": "stdout",
          "text": [
            "Mounted at /content/drive\n"
          ]
        }
      ],
      "source": [
        "from google.colab import drive\n",
        "drive.mount('/content/drive')"
      ],
      "id": "eU4pQ7RREAlq"
    },
    {
      "cell_type": "markdown",
      "metadata": {
        "id": "P0uyg9iMEAlr"
      },
      "source": [
        "**3. Downloading from the Web:**\n",
        "Learn how to use the `!wget` command to pull data directly from a URL into your Colab environment. This is incredibly useful for working with public datasets.\n",
        "\n",
        "*The cell below downloads a sample dataset from the web and then uses `!ls` to show it's in our file browser.*"
      ],
      "id": "P0uyg9iMEAlr"
    },
    {
      "cell_type": "code",
      "execution_count": 6,
      "metadata": {
        "colab": {
          "base_uri": "https://localhost:8080/"
        },
        "id": "m0tqU7v4EAlr",
        "outputId": "9a2ed78a-1987-4463-d6ec-6c9979ebf05f"
      },
      "outputs": [
        {
          "output_type": "stream",
          "name": "stdout",
          "text": [
            "iris_training.csv\n"
          ]
        }
      ],
      "source": [
        "# The '-q' flag makes the download quiet (less output)\n",
        "!wget -q https://storage.googleapis.com/download.tensorflow.org/data/iris_training.csv -P \"/content/drive/MyDrive/keele/data\"\n",
        "\n",
        "# List the files to see our newly downloaded csv\n",
        "!ls \"/content/drive/MyDrive/keele/data\""
      ],
      "id": "m0tqU7v4EAlr"
    },
    {
      "cell_type": "markdown",
      "source": [
        "You can also use the Terminal *(accessed from clicking on \"Terminal\" found bottom left of the browser)* to navigate and manage your files on the session and your mounted google drive."
      ],
      "metadata": {
        "id": "Q_ZTEPlCId1J"
      },
      "id": "Q_ZTEPlCId1J"
    },
    {
      "cell_type": "markdown",
      "metadata": {
        "id": "1KIDhU5qEAlr"
      },
      "source": [
        "---"
      ],
      "id": "1KIDhU5qEAlr"
    },
    {
      "cell_type": "markdown",
      "metadata": {
        "id": "wk7Np8LQEAlr"
      },
      "source": [
        "### **Managing the Runtime**\n",
        "\n",
        "**Goal:** Understand what a \"runtime\" is and how to manage it to stay within the free tier limits.\n",
        "\n",
        "**1. What is a Runtime?:**\n",
        "Think of it as a temporary computer you're borrowing from Google. Make sure you understand the different types:\n",
        "\n",
        "- **CPU:** The standard default for general-purpose code.\n",
        "- **GPU & TPU:** Special processors that dramatically speed up AI and machine learning tasks.\n",
        "\n",
        "> To change your runtime, go to the menu and select `Runtime > Change runtime type`.\n",
        "\n",
        "**2. Monitoring Your Usage:**\n",
        "Note the **RAM and Disk usage** indicators in the top-right corner of your Colab window. Watching these helps you know if you're about to run out of resources, which would crash your session.\n",
        "\n",
        "**3. Resource Best Practices:**\n",
        "Learn the golden rule: **Disconnect when you're done**. Use `Runtime > Disconnect and delete runtime` to end your session. This stops your usage clock and is the best way to manage your free resources.\n",
        "\n",
        "**4. Idle Timeouts:**\n",
        "Colab will automatically disconnect you if the notebook is left idle for too long (e.g., 90 minutes). This is to ensure resources are available for active users."
      ],
      "id": "wk7Np8LQEAlr"
    },
    {
      "cell_type": "markdown",
      "metadata": {
        "id": "EhCh_jF5EAlr"
      },
      "source": [
        "---"
      ],
      "id": "EhCh_jF5EAlr"
    },
    {
      "cell_type": "markdown",
      "metadata": {
        "id": "XI7YH4DREAls"
      },
      "source": [
        "### **Essential Tools & Workflow**\n",
        "\n",
        "**Goal:** Learn key commands and practices that will make your workflow smoother and more professional.\n",
        "\n",
        "**1. Installing Libraries:**\n",
        "Colab comes with most data science libraries pre-installed, but you'll eventually need one that isn't. Learn how to use `!pip install` to add any Python package you need."
      ],
      "id": "XI7YH4DREAls"
    },
    {
      "cell_type": "code",
      "execution_count": null,
      "metadata": {
        "id": "iUmehR1tEAls"
      },
      "outputs": [],
      "source": [
        "# Example: Installing the 'seaborn' library, which is great for statistical visualizations.\n",
        "# Even if it's already installed, this command will just confirm it.\n",
        "!pip install seaborn"
      ],
      "id": "iUmehR1tEAls"
    },
    {
      "cell_type": "markdown",
      "metadata": {
        "id": "T72FmmeiEAls"
      },
      "source": [
        "**2. Magic Commands:**\n",
        "Magic commands are special instructions for the notebook environment. Below is a table of essential commands, followed by a few live examples."
      ],
      "id": "T72FmmeiEAls"
    },
    {
      "cell_type": "markdown",
      "metadata": {
        "id": "bYmFqtOtEAls"
      },
      "source": [
        "| Command                                       | What is it used for?                                                                                                       | Why would you need it?                                                                                                                                     |\n",
        "| --------------------------------------------- | -------------------------------------------------------------------------------------------------------------------------- | ---------------------------------------------------------------------------------------------------------------------------------------------------------- |\n",
        "| **`!{command}`** | Executes a **shell command**. The `!` prefix tells Colab to treat the line as a command-line instruction, not Python code. | To manage your environment. Most commonly used for `!pip install <library>` to add new packages, or `!ls` to list files.                                   |\n",
        "| **`%%time`** | Measures the **total execution time** for an entire code cell. It runs the cell once and reports how long it took.         | To get a quick sense of how long a time-consuming process takes, like loading a large dataset or training a model for one epoch.                           |\n",
        "| **`%timeit`** | Measures the average execution time of a **single line of code** by running it many times for an accurate result.          | To find the most efficient way to perform an operation. You might use it to compare two different functions that do the same thing to see which is faster. |\n",
        "| **`%%writefile`** | Saves the entire content of a a cell to a **new file**.                                                                      | To create helper Python scripts (`.py` files), configuration files, or text files directly within your Colab environment.                                  |\n",
        "| **`%who` / `%whos`** | Lists all variables currently stored in memory. `%whos` provides more detail (type, size).                                 | To check what data you have loaded and how much memory it's using. This is crucial for managing resources on the free tier.                                |\n",
        "| **`%load_ext autoreload`<br>`%autoreload 2`** | Loads and activates the **autoreload** extension, which automatically re-imports modules before running code.              | To ensure that changes you make to a helper `.py` file are immediately reflected in your notebook without needing to restart the runtime.                  |\n",
        "| **`%lsmagic`** | Lists **all available** magic commands in the current Colab session.                                                       | To explore other available commands or to remember the name of a command you've forgotten.                                                                 |"
      ],
      "id": "bYmFqtOtEAls"
    },
    {
      "cell_type": "markdown",
      "metadata": {
        "id": "aG--18IEEAls"
      },
      "source": [
        "**Example of `%%time`:**"
      ],
      "id": "aG--18IEEAls"
    },
    {
      "cell_type": "code",
      "execution_count": 7,
      "metadata": {
        "colab": {
          "base_uri": "https://localhost:8080/"
        },
        "id": "pXmTluyvEAls",
        "outputId": "09c9767c-6f95-4397-c823-28b1c709618f"
      },
      "outputs": [
        {
          "output_type": "stream",
          "name": "stdout",
          "text": [
            "Finished sleeping!\n",
            "CPU times: user 1.35 ms, sys: 0 ns, total: 1.35 ms\n",
            "Wall time: 2 s\n"
          ]
        }
      ],
      "source": [
        "%%time\n",
        "\n",
        "# This cell will pause for 2 seconds, and %%time will measure that.\n",
        "import time\n",
        "time.sleep(2)\n",
        "print(\"Finished sleeping!\")"
      ],
      "id": "pXmTluyvEAls"
    },
    {
      "cell_type": "markdown",
      "metadata": {
        "id": "9LaISPEvEAls"
      },
      "source": [
        "**Example of `%whos`:**"
      ],
      "id": "9LaISPEvEAls"
    },
    {
      "cell_type": "code",
      "execution_count": 10,
      "metadata": {
        "colab": {
          "base_uri": "https://localhost:8080/"
        },
        "id": "j2T7OXElEAls",
        "outputId": "84b70817-3b6a-42b6-e364-361c93ad4c8e"
      },
      "outputs": [
        {
          "output_type": "stream",
          "name": "stdout",
          "text": [
            "Variable        Type         Data/Info\n",
            "--------------------------------------\n",
            "df              DataFrame       col1  col2\\n0     1     3\\n1     2     4\n",
            "drive           module       <module 'google.colab.dri<...>s/google/colab/drive.py'>\n",
            "my_name         str          Leon\n",
            "pd              module       <module 'pandas' from '/u<...>ages/pandas/__init__.py'>\n",
            "sample_data     dict         n=2\n",
            "student_count   int          35\n",
            "time            module       <module 'time' (built-in)>\n"
          ]
        }
      ],
      "source": [
        "import pandas as pd\n",
        "\n",
        "my_name = \"Leon\"\n",
        "student_count = 35\n",
        "sample_data = {'col1': [1, 2], 'col2': [3, 4]}\n",
        "df = pd.DataFrame(data=sample_data)\n",
        "\n",
        "%whos"
      ],
      "id": "j2T7OXElEAls"
    },
    {
      "cell_type": "markdown",
      "metadata": {
        "id": "lxL1_I1rEAlt"
      },
      "source": [
        "**3. Saving Your Work:**\n",
        "Learn what works for you:\n",
        "\n",
        "- **Saving a copy to your Google Drive** (the standard way) using `File > Save a copy in Drive`.\n",
        "- **Saving a copy to GitHub** using `File > Save a copy in GitHub`. This is a more advanced practice for version control."
      ],
      "id": "lxL1_I1rEAlt"
    }
  ],
  "metadata": {
    "kernelspec": {
      "display_name": "Python 3",
      "language": "python",
      "name": "python3"
    },
    "language_info": {
      "codemirror_mode": {
        "name": "ipython",
        "version": 3
      },
      "file_extension": ".py",
      "mimetype": "text/x-python",
      "name": "python",
      "nbconvert_exporter": "python",
      "pygments_lexer": "ipython3",
      "version": "3.10.12"
    },
    "colab": {
      "provenance": [],
      "include_colab_link": true
    }
  },
  "nbformat": 4,
  "nbformat_minor": 5
}